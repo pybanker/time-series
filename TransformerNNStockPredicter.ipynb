{
  "nbformat": 4,
  "nbformat_minor": 0,
  "metadata": {
    "colab": {
      "name": "TransformerNNStockPredicter.ipynb",
      "provenance": [],
      "collapsed_sections": [],
      "include_colab_link": true
    },
    "kernelspec": {
      "display_name": "Python 3",
      "language": "python",
      "name": "python3"
    }
  },
  "cells": [
    {
      "cell_type": "markdown",
      "metadata": {
        "id": "view-in-github",
        "colab_type": "text"
      },
      "source": [
        "<a href=\"https://colab.research.google.com/github/pybanker/time-series/blob/master/TransformerNNStockPredicter.ipynb\" target=\"_parent\"><img src=\"https://colab.research.google.com/assets/colab-badge.svg\" alt=\"Open In Colab\"/></a>"
      ]
    },
    {
      "cell_type": "markdown",
      "metadata": {
        "id": "oinEVakH0mez"
      },
      "source": [
        "## Stock Prediction model with Tensorflow 2.0! \n",
        "\n",
        "We're going to predict prices of General Electric's stock using a Transformer neural network"
      ]
    },
    {
      "cell_type": "markdown",
      "metadata": {
        "id": "7zz46GEL0wKq"
      },
      "source": [
        "## Step 1 - Import data"
      ]
    },
    {
      "cell_type": "code",
      "metadata": {
        "id": "auGCuaVcxais"
      },
      "source": [
        "import numpy as np\n",
        "import matplotlib.pyplot as plt\n",
        "import pandas as pd\n",
        "import os \n",
        "from sklearn.preprocessing import MinMaxScaler"
      ],
      "execution_count": null,
      "outputs": []
    },
    {
      "cell_type": "code",
      "metadata": {
        "colab": {
          "base_uri": "https://localhost:8080/"
        },
        "id": "GhNNNbRc05pp",
        "outputId": "f0cf7f66-d073-48ea-d25c-1ac063ce2948"
      },
      "source": [
        "# %cd to change the wd (currently in /root)"
      ],
      "execution_count": null,
      "outputs": [
        {
          "output_type": "stream",
          "name": "stdout",
          "text": [
            "/root\n"
          ]
        }
      ]
    },
    {
      "cell_type": "code",
      "metadata": {
        "id": "mpx4tUy7xaiu"
      },
      "source": [
        "# I got it from https://finance.yahoo.com/quote/GE/history?p=GE&.tsrc=fin-srch\n",
        "\n",
        "df = pd.read_csv('ge.csv',delimiter=',',usecols=['Date','Open','High','Low','Close', 'Volume'])\n"
      ],
      "execution_count": null,
      "outputs": []
    },
    {
      "cell_type": "code",
      "metadata": {
        "id": "bPMmthxJxaiy",
        "colab": {
          "base_uri": "https://localhost:8080/",
          "height": 204
        },
        "outputId": "0b68d127-d8f0-4d51-98ab-04f1abc9bf9d"
      },
      "source": [
        "# Sort DataFrame by date\n",
        "df = df.sort_values('Date')\n",
        "\n",
        "# Double check the result\n",
        "df.head()"
      ],
      "execution_count": null,
      "outputs": [
        {
          "output_type": "execute_result",
          "data": {
            "text/html": [
              "<div>\n",
              "<style scoped>\n",
              "    .dataframe tbody tr th:only-of-type {\n",
              "        vertical-align: middle;\n",
              "    }\n",
              "\n",
              "    .dataframe tbody tr th {\n",
              "        vertical-align: top;\n",
              "    }\n",
              "\n",
              "    .dataframe thead th {\n",
              "        text-align: right;\n",
              "    }\n",
              "</style>\n",
              "<table border=\"1\" class=\"dataframe\">\n",
              "  <thead>\n",
              "    <tr style=\"text-align: right;\">\n",
              "      <th></th>\n",
              "      <th>Date</th>\n",
              "      <th>Open</th>\n",
              "      <th>High</th>\n",
              "      <th>Low</th>\n",
              "      <th>Close</th>\n",
              "      <th>Volume</th>\n",
              "    </tr>\n",
              "  </thead>\n",
              "  <tbody>\n",
              "    <tr>\n",
              "      <th>0</th>\n",
              "      <td>1962-01-02</td>\n",
              "      <td>6.009615</td>\n",
              "      <td>6.109776</td>\n",
              "      <td>5.949519</td>\n",
              "      <td>5.989583</td>\n",
              "      <td>269568</td>\n",
              "    </tr>\n",
              "    <tr>\n",
              "      <th>1</th>\n",
              "      <td>1962-01-03</td>\n",
              "      <td>5.959535</td>\n",
              "      <td>5.959535</td>\n",
              "      <td>5.909455</td>\n",
              "      <td>5.929487</td>\n",
              "      <td>184704</td>\n",
              "    </tr>\n",
              "    <tr>\n",
              "      <th>2</th>\n",
              "      <td>1962-01-04</td>\n",
              "      <td>5.929487</td>\n",
              "      <td>5.979567</td>\n",
              "      <td>5.809295</td>\n",
              "      <td>5.859375</td>\n",
              "      <td>229632</td>\n",
              "    </tr>\n",
              "    <tr>\n",
              "      <th>3</th>\n",
              "      <td>1962-01-05</td>\n",
              "      <td>5.859375</td>\n",
              "      <td>5.869391</td>\n",
              "      <td>5.608974</td>\n",
              "      <td>5.709135</td>\n",
              "      <td>340704</td>\n",
              "    </tr>\n",
              "    <tr>\n",
              "      <th>4</th>\n",
              "      <td>1962-01-08</td>\n",
              "      <td>5.709135</td>\n",
              "      <td>5.709135</td>\n",
              "      <td>5.528846</td>\n",
              "      <td>5.699119</td>\n",
              "      <td>386880</td>\n",
              "    </tr>\n",
              "  </tbody>\n",
              "</table>\n",
              "</div>"
            ],
            "text/plain": [
              "         Date      Open      High       Low     Close  Volume\n",
              "0  1962-01-02  6.009615  6.109776  5.949519  5.989583  269568\n",
              "1  1962-01-03  5.959535  5.959535  5.909455  5.929487  184704\n",
              "2  1962-01-04  5.929487  5.979567  5.809295  5.859375  229632\n",
              "3  1962-01-05  5.859375  5.869391  5.608974  5.709135  340704\n",
              "4  1962-01-08  5.709135  5.709135  5.528846  5.699119  386880"
            ]
          },
          "metadata": {},
          "execution_count": 15
        }
      ]
    },
    {
      "cell_type": "code",
      "metadata": {
        "scrolled": false,
        "id": "GkKxc7cFxai1",
        "colab": {
          "base_uri": "https://localhost:8080/",
          "height": 597
        },
        "outputId": "9375d93b-77d7-47fb-c96e-3d66bff39236"
      },
      "source": [
        "plt.figure(figsize = (18,9))\n",
        "plt.plot(range(df.shape[0]),(df['Low']+df['High'])/2.0)\n",
        "plt.xticks(range(0,df.shape[0],500),df['Date'].loc[::500],rotation=45)\n",
        "plt.xlabel('Date',fontsize=18)\n",
        "plt.ylabel('Mid Price',fontsize=18)\n",
        "plt.show()"
      ],
      "execution_count": null,
      "outputs": [
        {
          "output_type": "display_data",
          "data": {
            "image/png": "[encoded data removed]",
            "text/plain": [
              "<Figure size 1296x648 with 1 Axes>"
            ]
          },
          "metadata": {
            "needs_background": "light"
          }
        }
      ]
    },
    {
      "cell_type": "markdown",
      "metadata": {
        "id": "RxMRaOzn1kE6"
      },
      "source": [
        "## Step 2 - Data preprocessing "
      ]
    },
    {
      "cell_type": "code",
      "metadata": {
        "id": "ZL--fSe8xai3"
      },
      "source": [
        "df['mid'] = (df['Low']+df['High'])/2.0"
      ],
      "execution_count": null,
      "outputs": []
    },
    {
      "cell_type": "code",
      "metadata": {
        "id": "b6Wab9Tjxai6"
      },
      "source": [
        "SEQ_LEN = 60  # how long of a preceeding sequence to collect for RNN\n",
        "FUTURE_PERIOD_PREDICT = 1  # how far into the future are we trying to predict?\n",
        "RATIO_TO_PREDICT = \"mid\""
      ],
      "execution_count": null,
      "outputs": []
    },
    {
      "cell_type": "code",
      "metadata": {
        "id": "xivEjA3nxai8"
      },
      "source": [
        "def classify(current, future):\n",
        "    if float(future) > float(current):\n",
        "        return 1\n",
        "    else:\n",
        "        return 0\n",
        "# creates a classifier variable to show which rows have a positive return the following day"
      ],
      "execution_count": null,
      "outputs": []
    },
    {
      "cell_type": "code",
      "metadata": {
        "id": "1Ed5lkP2xai-"
      },
      "source": [
        "df['future'] = df[RATIO_TO_PREDICT].shift(-FUTURE_PERIOD_PREDICT)"
      ],
      "execution_count": null,
      "outputs": []
    },
    {
      "cell_type": "code",
      "metadata": {
        "id": "wG_6iwU6xajA"
      },
      "source": [
        "df['target'] = list(map(classify, df[RATIO_TO_PREDICT], df['future']))"
      ],
      "execution_count": null,
      "outputs": []
    },
    {
      "cell_type": "code",
      "metadata": {
        "id": "xghpEEPlxajC",
        "colab": {
          "base_uri": "https://localhost:8080/",
          "height": 514
        },
        "outputId": "a5fff928-37f9-4713-f4cb-21f39287d0ef"
      },
      "source": [
        "df.head(15)"
      ],
      "execution_count": null,
      "outputs": [
        {
          "output_type": "execute_result",
          "data": {
            "text/html": [
              "<div>\n",
              "<style scoped>\n",
              "    .dataframe tbody tr th:only-of-type {\n",
              "        vertical-align: middle;\n",
              "    }\n",
              "\n",
              "    .dataframe tbody tr th {\n",
              "        vertical-align: top;\n",
              "    }\n",
              "\n",
              "    .dataframe thead th {\n",
              "        text-align: right;\n",
              "    }\n",
              "</style>\n",
              "<table border=\"1\" class=\"dataframe\">\n",
              "  <thead>\n",
              "    <tr style=\"text-align: right;\">\n",
              "      <th></th>\n",
              "      <th>Date</th>\n",
              "      <th>Open</th>\n",
              "      <th>High</th>\n",
              "      <th>Low</th>\n",
              "      <th>Close</th>\n",
              "      <th>Volume</th>\n",
              "      <th>mid</th>\n",
              "      <th>future</th>\n",
              "      <th>target</th>\n",
              "    </tr>\n",
              "  </thead>\n",
              "  <tbody>\n",
              "    <tr>\n",
              "      <th>0</th>\n",
              "      <td>1962-01-02</td>\n",
              "      <td>6.009615</td>\n",
              "      <td>6.109776</td>\n",
              "      <td>5.949519</td>\n",
              "      <td>5.989583</td>\n",
              "      <td>269568</td>\n",
              "      <td>6.029648</td>\n",
              "      <td>5.934495</td>\n",
              "      <td>0</td>\n",
              "    </tr>\n",
              "    <tr>\n",
              "      <th>1</th>\n",
              "      <td>1962-01-03</td>\n",
              "      <td>5.959535</td>\n",
              "      <td>5.959535</td>\n",
              "      <td>5.909455</td>\n",
              "      <td>5.929487</td>\n",
              "      <td>184704</td>\n",
              "      <td>5.934495</td>\n",
              "      <td>5.894431</td>\n",
              "      <td>0</td>\n",
              "    </tr>\n",
              "    <tr>\n",
              "      <th>2</th>\n",
              "      <td>1962-01-04</td>\n",
              "      <td>5.929487</td>\n",
              "      <td>5.979567</td>\n",
              "      <td>5.809295</td>\n",
              "      <td>5.859375</td>\n",
              "      <td>229632</td>\n",
              "      <td>5.894431</td>\n",
              "      <td>5.739183</td>\n",
              "      <td>0</td>\n",
              "    </tr>\n",
              "    <tr>\n",
              "      <th>3</th>\n",
              "      <td>1962-01-05</td>\n",
              "      <td>5.859375</td>\n",
              "      <td>5.869391</td>\n",
              "      <td>5.608974</td>\n",
              "      <td>5.709135</td>\n",
              "      <td>340704</td>\n",
              "      <td>5.739183</td>\n",
              "      <td>5.618990</td>\n",
              "      <td>0</td>\n",
              "    </tr>\n",
              "    <tr>\n",
              "      <th>4</th>\n",
              "      <td>1962-01-08</td>\n",
              "      <td>5.709135</td>\n",
              "      <td>5.709135</td>\n",
              "      <td>5.528846</td>\n",
              "      <td>5.699119</td>\n",
              "      <td>386880</td>\n",
              "      <td>5.618990</td>\n",
              "      <td>5.719150</td>\n",
              "      <td>1</td>\n",
              "    </tr>\n",
              "    <tr>\n",
              "      <th>5</th>\n",
              "      <td>1962-01-09</td>\n",
              "      <td>5.699119</td>\n",
              "      <td>5.779247</td>\n",
              "      <td>5.659054</td>\n",
              "      <td>5.729167</td>\n",
              "      <td>290784</td>\n",
              "      <td>5.719150</td>\n",
              "      <td>5.749199</td>\n",
              "      <td>1</td>\n",
              "    </tr>\n",
              "    <tr>\n",
              "      <th>6</th>\n",
              "      <td>1962-01-10</td>\n",
              "      <td>5.729167</td>\n",
              "      <td>5.789263</td>\n",
              "      <td>5.709135</td>\n",
              "      <td>5.759215</td>\n",
              "      <td>244608</td>\n",
              "      <td>5.749199</td>\n",
              "      <td>5.714142</td>\n",
              "      <td>0</td>\n",
              "    </tr>\n",
              "    <tr>\n",
              "      <th>7</th>\n",
              "      <td>1962-01-11</td>\n",
              "      <td>5.759215</td>\n",
              "      <td>5.769231</td>\n",
              "      <td>5.659054</td>\n",
              "      <td>5.769231</td>\n",
              "      <td>203424</td>\n",
              "      <td>5.714142</td>\n",
              "      <td>5.724159</td>\n",
              "      <td>1</td>\n",
              "    </tr>\n",
              "    <tr>\n",
              "      <th>8</th>\n",
              "      <td>1962-01-12</td>\n",
              "      <td>5.769231</td>\n",
              "      <td>5.779247</td>\n",
              "      <td>5.669071</td>\n",
              "      <td>5.689103</td>\n",
              "      <td>210912</td>\n",
              "      <td>5.724159</td>\n",
              "      <td>5.734175</td>\n",
              "      <td>1</td>\n",
              "    </tr>\n",
              "    <tr>\n",
              "      <th>9</th>\n",
              "      <td>1962-01-15</td>\n",
              "      <td>5.699119</td>\n",
              "      <td>5.769231</td>\n",
              "      <td>5.699119</td>\n",
              "      <td>5.749199</td>\n",
              "      <td>264576</td>\n",
              "      <td>5.734175</td>\n",
              "      <td>5.764223</td>\n",
              "      <td>1</td>\n",
              "    </tr>\n",
              "    <tr>\n",
              "      <th>10</th>\n",
              "      <td>1962-01-16</td>\n",
              "      <td>5.749199</td>\n",
              "      <td>5.819311</td>\n",
              "      <td>5.709135</td>\n",
              "      <td>5.799279</td>\n",
              "      <td>173472</td>\n",
              "      <td>5.764223</td>\n",
              "      <td>5.709134</td>\n",
              "      <td>0</td>\n",
              "    </tr>\n",
              "    <tr>\n",
              "      <th>11</th>\n",
              "      <td>1962-01-17</td>\n",
              "      <td>5.789263</td>\n",
              "      <td>5.789263</td>\n",
              "      <td>5.629006</td>\n",
              "      <td>5.669071</td>\n",
              "      <td>267072</td>\n",
              "      <td>5.709134</td>\n",
              "      <td>5.694110</td>\n",
              "      <td>0</td>\n",
              "    </tr>\n",
              "    <tr>\n",
              "      <th>12</th>\n",
              "      <td>1962-01-18</td>\n",
              "      <td>5.669071</td>\n",
              "      <td>5.729167</td>\n",
              "      <td>5.659054</td>\n",
              "      <td>5.729167</td>\n",
              "      <td>184704</td>\n",
              "      <td>5.694110</td>\n",
              "      <td>5.754207</td>\n",
              "      <td>1</td>\n",
              "    </tr>\n",
              "    <tr>\n",
              "      <th>13</th>\n",
              "      <td>1962-01-19</td>\n",
              "      <td>5.729167</td>\n",
              "      <td>5.779247</td>\n",
              "      <td>5.729167</td>\n",
              "      <td>5.779247</td>\n",
              "      <td>165984</td>\n",
              "      <td>5.754207</td>\n",
              "      <td>5.829327</td>\n",
              "      <td>1</td>\n",
              "    </tr>\n",
              "    <tr>\n",
              "      <th>14</th>\n",
              "      <td>1962-01-22</td>\n",
              "      <td>5.789263</td>\n",
              "      <td>5.869391</td>\n",
              "      <td>5.789263</td>\n",
              "      <td>5.799279</td>\n",
              "      <td>177216</td>\n",
              "      <td>5.829327</td>\n",
              "      <td>5.724159</td>\n",
              "      <td>0</td>\n",
              "    </tr>\n",
              "  </tbody>\n",
              "</table>\n",
              "</div>"
            ],
            "text/plain": [
              "          Date      Open      High  ...       mid    future  target\n",
              "0   1962-01-02  6.009615  6.109776  ...  6.029648  5.934495       0\n",
              "1   1962-01-03  5.959535  5.959535  ...  5.934495  5.894431       0\n",
              "2   1962-01-04  5.929487  5.979567  ...  5.894431  5.739183       0\n",
              "3   1962-01-05  5.859375  5.869391  ...  5.739183  5.618990       0\n",
              "4   1962-01-08  5.709135  5.709135  ...  5.618990  5.719150       1\n",
              "5   1962-01-09  5.699119  5.779247  ...  5.719150  5.749199       1\n",
              "6   1962-01-10  5.729167  5.789263  ...  5.749199  5.714142       0\n",
              "7   1962-01-11  5.759215  5.769231  ...  5.714142  5.724159       1\n",
              "8   1962-01-12  5.769231  5.779247  ...  5.724159  5.734175       1\n",
              "9   1962-01-15  5.699119  5.769231  ...  5.734175  5.764223       1\n",
              "10  1962-01-16  5.749199  5.819311  ...  5.764223  5.709134       0\n",
              "11  1962-01-17  5.789263  5.789263  ...  5.709134  5.694110       0\n",
              "12  1962-01-18  5.669071  5.729167  ...  5.694110  5.754207       1\n",
              "13  1962-01-19  5.729167  5.779247  ...  5.754207  5.829327       1\n",
              "14  1962-01-22  5.789263  5.869391  ...  5.829327  5.724159       0\n",
              "\n",
              "[15 rows x 9 columns]"
            ]
          },
          "metadata": {},
          "execution_count": 19
        }
      ]
    },
    {
      "cell_type": "code",
      "metadata": {
        "id": "7PAjmcStxajF",
        "colab": {
          "base_uri": "https://localhost:8080/",
          "height": 204
        },
        "outputId": "a639b188-064f-48ba-ea0a-497d837361b1"
      },
      "source": [
        "df.tail()"
      ],
      "execution_count": null,
      "outputs": [
        {
          "output_type": "execute_result",
          "data": {
            "text/html": [
              "<div>\n",
              "<style scoped>\n",
              "    .dataframe tbody tr th:only-of-type {\n",
              "        vertical-align: middle;\n",
              "    }\n",
              "\n",
              "    .dataframe tbody tr th {\n",
              "        vertical-align: top;\n",
              "    }\n",
              "\n",
              "    .dataframe thead th {\n",
              "        text-align: right;\n",
              "    }\n",
              "</style>\n",
              "<table border=\"1\" class=\"dataframe\">\n",
              "  <thead>\n",
              "    <tr style=\"text-align: right;\">\n",
              "      <th></th>\n",
              "      <th>Date</th>\n",
              "      <th>Open</th>\n",
              "      <th>High</th>\n",
              "      <th>Low</th>\n",
              "      <th>Close</th>\n",
              "      <th>Volume</th>\n",
              "      <th>mid</th>\n",
              "      <th>future</th>\n",
              "      <th>target</th>\n",
              "    </tr>\n",
              "  </thead>\n",
              "  <tbody>\n",
              "    <tr>\n",
              "      <th>15050</th>\n",
              "      <td>2021-10-14</td>\n",
              "      <td>103.139999</td>\n",
              "      <td>103.650002</td>\n",
              "      <td>102.370003</td>\n",
              "      <td>102.739998</td>\n",
              "      <td>6139100</td>\n",
              "      <td>103.010002</td>\n",
              "      <td>104.545002</td>\n",
              "      <td>1</td>\n",
              "    </tr>\n",
              "    <tr>\n",
              "      <th>15051</th>\n",
              "      <td>2021-10-15</td>\n",
              "      <td>103.650002</td>\n",
              "      <td>105.900002</td>\n",
              "      <td>103.190002</td>\n",
              "      <td>104.410004</td>\n",
              "      <td>5647200</td>\n",
              "      <td>104.545002</td>\n",
              "      <td>103.805001</td>\n",
              "      <td>0</td>\n",
              "    </tr>\n",
              "    <tr>\n",
              "      <th>15052</th>\n",
              "      <td>2021-10-18</td>\n",
              "      <td>103.680000</td>\n",
              "      <td>104.570000</td>\n",
              "      <td>103.040001</td>\n",
              "      <td>104.120003</td>\n",
              "      <td>4145500</td>\n",
              "      <td>103.805001</td>\n",
              "      <td>104.275002</td>\n",
              "      <td>1</td>\n",
              "    </tr>\n",
              "    <tr>\n",
              "      <th>15053</th>\n",
              "      <td>2021-10-19</td>\n",
              "      <td>104.580002</td>\n",
              "      <td>104.970001</td>\n",
              "      <td>103.580002</td>\n",
              "      <td>104.730003</td>\n",
              "      <td>4216400</td>\n",
              "      <td>104.275002</td>\n",
              "      <td>104.945000</td>\n",
              "      <td>1</td>\n",
              "    </tr>\n",
              "    <tr>\n",
              "      <th>15054</th>\n",
              "      <td>2021-10-20</td>\n",
              "      <td>104.750000</td>\n",
              "      <td>106.019997</td>\n",
              "      <td>103.870003</td>\n",
              "      <td>106.000000</td>\n",
              "      <td>6107900</td>\n",
              "      <td>104.945000</td>\n",
              "      <td>NaN</td>\n",
              "      <td>0</td>\n",
              "    </tr>\n",
              "  </tbody>\n",
              "</table>\n",
              "</div>"
            ],
            "text/plain": [
              "             Date        Open        High  ...         mid      future  target\n",
              "15050  2021-10-14  103.139999  103.650002  ...  103.010002  104.545002       1\n",
              "15051  2021-10-15  103.650002  105.900002  ...  104.545002  103.805001       0\n",
              "15052  2021-10-18  103.680000  104.570000  ...  103.805001  104.275002       1\n",
              "15053  2021-10-19  104.580002  104.970001  ...  104.275002  104.945000       1\n",
              "15054  2021-10-20  104.750000  106.019997  ...  104.945000         NaN       0\n",
              "\n",
              "[5 rows x 9 columns]"
            ]
          },
          "metadata": {},
          "execution_count": 20
        }
      ]
    },
    {
      "cell_type": "code",
      "metadata": {
        "id": "RAFn8wq_xajI"
      },
      "source": [
        "times = sorted(df.index.values)  # get the times\n",
        "last_10pct = sorted(df.index.values)[-int(0.1*len(times))]  # get the last 10% of the times\n",
        "last_20pct = sorted(df.index.values)[-int(0.2*len(times))]  # get the last 20% of the times\n",
        "\n",
        "test_df = df[(df.index >= last_10pct)]\n",
        "validation_df = df[(df.index >= last_20pct) & (df.index < last_10pct)]  \n",
        "train_df = df[(df.index < last_20pct)]  # now the train_df is all the data up to the last 20%"
      ],
      "execution_count": null,
      "outputs": []
    },
    {
      "cell_type": "code",
      "metadata": {
        "id": "7YjKCnx9xajJ"
      },
      "source": [
        "from collections import deque\n",
        "import numpy as np\n",
        "import random"
      ],
      "execution_count": null,
      "outputs": []
    },
    {
      "cell_type": "code",
      "metadata": {
        "id": "iqCCaK-RxajL",
        "colab": {
          "base_uri": "https://localhost:8080/"
        },
        "outputId": "1c47e7b4-7730-4ef5-f669-5ea17eb688fa"
      },
      "source": [
        "train_df.drop(columns=[\"Date\", \"future\", 'Open', 'High', 'Low', 'Close', 'Volume'], inplace=True)\n",
        "validation_df.drop(columns=[\"Date\", \"future\", 'Open', 'High', 'Low', 'Close', 'Volume'], inplace=True)\n",
        "test_df.drop(columns=[\"Date\", \"future\", 'Open', 'High', 'Low', 'Close', 'Volume'], inplace=True)# don't need this anymore."
      ],
      "execution_count": null,
      "outputs": [
        {
          "output_type": "stream",
          "name": "stderr",
          "text": [
            "/usr/local/lib/python3.7/dist-packages/pandas/core/frame.py:4174: SettingWithCopyWarning: \n",
            "A value is trying to be set on a copy of a slice from a DataFrame\n",
            "\n",
            "See the caveats in the documentation: https://pandas.pydata.org/pandas-docs/stable/user_guide/indexing.html#returning-a-view-versus-a-copy\n",
            "  errors=errors,\n"
          ]
        }
      ]
    },
    {
      "cell_type": "code",
      "metadata": {
        "id": "MdZ_ULmxxajO",
        "colab": {
          "base_uri": "https://localhost:8080/",
          "height": 514
        },
        "outputId": "66f22030-f8a2-4fdc-8b5b-de005001ad99"
      },
      "source": [
        "train_df.head(15)"
      ],
      "execution_count": null,
      "outputs": [
        {
          "output_type": "execute_result",
          "data": {
            "text/html": [
              "<div>\n",
              "<style scoped>\n",
              "    .dataframe tbody tr th:only-of-type {\n",
              "        vertical-align: middle;\n",
              "    }\n",
              "\n",
              "    .dataframe tbody tr th {\n",
              "        vertical-align: top;\n",
              "    }\n",
              "\n",
              "    .dataframe thead th {\n",
              "        text-align: right;\n",
              "    }\n",
              "</style>\n",
              "<table border=\"1\" class=\"dataframe\">\n",
              "  <thead>\n",
              "    <tr style=\"text-align: right;\">\n",
              "      <th></th>\n",
              "      <th>mid</th>\n",
              "      <th>target</th>\n",
              "    </tr>\n",
              "  </thead>\n",
              "  <tbody>\n",
              "    <tr>\n",
              "      <th>0</th>\n",
              "      <td>6.029648</td>\n",
              "      <td>0</td>\n",
              "    </tr>\n",
              "    <tr>\n",
              "      <th>1</th>\n",
              "      <td>5.934495</td>\n",
              "      <td>0</td>\n",
              "    </tr>\n",
              "    <tr>\n",
              "      <th>2</th>\n",
              "      <td>5.894431</td>\n",
              "      <td>0</td>\n",
              "    </tr>\n",
              "    <tr>\n",
              "      <th>3</th>\n",
              "      <td>5.739183</td>\n",
              "      <td>0</td>\n",
              "    </tr>\n",
              "    <tr>\n",
              "      <th>4</th>\n",
              "      <td>5.618990</td>\n",
              "      <td>1</td>\n",
              "    </tr>\n",
              "    <tr>\n",
              "      <th>5</th>\n",
              "      <td>5.719150</td>\n",
              "      <td>1</td>\n",
              "    </tr>\n",
              "    <tr>\n",
              "      <th>6</th>\n",
              "      <td>5.749199</td>\n",
              "      <td>0</td>\n",
              "    </tr>\n",
              "    <tr>\n",
              "      <th>7</th>\n",
              "      <td>5.714142</td>\n",
              "      <td>1</td>\n",
              "    </tr>\n",
              "    <tr>\n",
              "      <th>8</th>\n",
              "      <td>5.724159</td>\n",
              "      <td>1</td>\n",
              "    </tr>\n",
              "    <tr>\n",
              "      <th>9</th>\n",
              "      <td>5.734175</td>\n",
              "      <td>1</td>\n",
              "    </tr>\n",
              "    <tr>\n",
              "      <th>10</th>\n",
              "      <td>5.764223</td>\n",
              "      <td>0</td>\n",
              "    </tr>\n",
              "    <tr>\n",
              "      <th>11</th>\n",
              "      <td>5.709134</td>\n",
              "      <td>0</td>\n",
              "    </tr>\n",
              "    <tr>\n",
              "      <th>12</th>\n",
              "      <td>5.694110</td>\n",
              "      <td>1</td>\n",
              "    </tr>\n",
              "    <tr>\n",
              "      <th>13</th>\n",
              "      <td>5.754207</td>\n",
              "      <td>1</td>\n",
              "    </tr>\n",
              "    <tr>\n",
              "      <th>14</th>\n",
              "      <td>5.829327</td>\n",
              "      <td>0</td>\n",
              "    </tr>\n",
              "  </tbody>\n",
              "</table>\n",
              "</div>"
            ],
            "text/plain": [
              "         mid  target\n",
              "0   6.029648       0\n",
              "1   5.934495       0\n",
              "2   5.894431       0\n",
              "3   5.739183       0\n",
              "4   5.618990       1\n",
              "5   5.719150       1\n",
              "6   5.749199       0\n",
              "7   5.714142       1\n",
              "8   5.724159       1\n",
              "9   5.734175       1\n",
              "10  5.764223       0\n",
              "11  5.709134       0\n",
              "12  5.694110       1\n",
              "13  5.754207       1\n",
              "14  5.829327       0"
            ]
          },
          "metadata": {},
          "execution_count": 26
        }
      ]
    },
    {
      "cell_type": "code",
      "metadata": {
        "id": "zwGJhffJxajR"
      },
      "source": [
        "train_data = train_df[RATIO_TO_PREDICT].to_numpy()\n",
        "valid_data = validation_df[RATIO_TO_PREDICT].to_numpy()\n",
        "test_data = test_df[RATIO_TO_PREDICT].to_numpy()\n",
        "#as_matrix() is deprecated"
      ],
      "execution_count": null,
      "outputs": []
    },
    {
      "cell_type": "code",
      "metadata": {
        "id": "PIAJik-ZxajU"
      },
      "source": [
        "train_data = train_data.reshape(-1,1)\n",
        "valid_data = valid_data.reshape(-1,1)\n",
        "test_data = test_data.reshape(-1,1)"
      ],
      "execution_count": null,
      "outputs": []
    },
    {
      "cell_type": "code",
      "metadata": {
        "id": "X4kEiHRbxajX"
      },
      "source": [
        "scaler = MinMaxScaler()"
      ],
      "execution_count": null,
      "outputs": []
    },
    {
      "cell_type": "code",
      "metadata": {
        "id": "cn_snhLMxajZ"
      },
      "source": [
        "# Train the Scaler with training data and smooth data\n",
        "smoothing_window_size = 2500\n",
        "for di in range(0,10000,smoothing_window_size):\n",
        "    scaler.fit(train_data[di:di+smoothing_window_size,:])\n",
        "    train_data[di:di+smoothing_window_size,:] = scaler.transform(train_data[di:di+smoothing_window_size,:])\n",
        "\n",
        "# You normalize the last bit of remaining data\n",
        "scaler.fit(train_data[di+smoothing_window_size:,:])\n",
        "train_data[di+smoothing_window_size:,:] = scaler.transform(train_data[di+smoothing_window_size:,:])\n",
        "\n",
        "# we only normalize on the training data"
      ],
      "execution_count": null,
      "outputs": []
    },
    {
      "cell_type": "code",
      "metadata": {
        "id": "TeNXSWNvxajd"
      },
      "source": [
        "# Reshape both train and test data\n",
        "train_data = train_data.reshape(-1)\n",
        "valid_data = valid_data.reshape(-1,1) # added this because needed to convert the array from 1D to 2D\n",
        "test_data = test_data.reshape(-1,1) # added this because needed to convert the array from 1D to 2D\n",
        "\n",
        "# Normalize test data and validation data\n",
        "valid_data = scaler.fit_transform(valid_data).reshape(-1) # added .fit_transform (instead of .transform)\n",
        "test_data = scaler.fit_transform(test_data).reshape(-1) # added .fit_transform (instead of .transform)\n",
        "\n",
        "# then we apply the normalization (using params from train) onto valid and test"
      ],
      "execution_count": null,
      "outputs": []
    },
    {
      "cell_type": "code",
      "metadata": {
        "id": "qzVv4a0exajf"
      },
      "source": [
        "# Now perform exponential moving average smoothing\n",
        "# So the data will have a smoother curve than the original ragged data\n",
        "EMA = 0.0\n",
        "gamma = 0.1\n",
        "for ti in range(11000):\n",
        "    EMA = gamma*train_data[ti] + (1-gamma)*EMA\n",
        "    train_data[ti] = EMA\n",
        "\n",
        "# Used for visualization and test purposes\n",
        "all_mid_data = np.concatenate([train_data,valid_data, test_data],axis=0)"
      ],
      "execution_count": null,
      "outputs": []
    },
    {
      "cell_type": "code",
      "metadata": {
        "id": "hJWixftkxajh"
      },
      "source": [
        "X_train = []\n",
        "y_train = []\n",
        "for i in range(SEQ_LEN, len(train_data)):\n",
        "    X_train.append(train_data[i-SEQ_LEN:i])\n",
        "    y_train.append(train_data[i + (FUTURE_PERIOD_PREDICT-1)])\n",
        "X_train, y_train = np.array(X_train), np.array(y_train)\n",
        "\n",
        "X_train = np.reshape(X_train, (X_train.shape[0], X_train.shape[1], 1))"
      ],
      "execution_count": null,
      "outputs": []
    },
    {
      "cell_type": "code",
      "metadata": {
        "id": "mUKjYFOfxajj"
      },
      "source": [
        "X_valid = []\n",
        "y_valid = []\n",
        "for i in range(SEQ_LEN, len(valid_data)):\n",
        "    X_valid.append(valid_data[i-SEQ_LEN:i])\n",
        "    y_valid.append(valid_data[i+(FUTURE_PERIOD_PREDICT-1)])\n",
        "X_valid, y_valid = np.array(X_valid), np.array(y_valid)\n",
        "\n",
        "X_valid = np.reshape(X_valid, (X_valid.shape[0], X_valid.shape[1], 1))"
      ],
      "execution_count": null,
      "outputs": []
    },
    {
      "cell_type": "code",
      "metadata": {
        "id": "QAyrELlOxajk"
      },
      "source": [
        "X_test = []\n",
        "y_test = []\n",
        "for i in range(SEQ_LEN, len(test_data)):\n",
        "    X_test.append(test_data[i-SEQ_LEN:i])\n",
        "    y_test.append(test_data[i+(FUTURE_PERIOD_PREDICT-1)])\n",
        "    \n",
        "X_test, y_test = np.array(X_test), np.array(y_test)\n",
        "X_test = np.reshape(X_test, (X_test.shape[0], X_test.shape[1], 1))"
      ],
      "execution_count": null,
      "outputs": []
    },
    {
      "cell_type": "code",
      "metadata": {
        "id": "6Ji_WyLaxajm",
        "colab": {
          "base_uri": "https://localhost:8080/"
        },
        "outputId": "882db1b2-1d32-40be-a904-b0894dd0d276"
      },
      "source": [
        "y_train.shape"
      ],
      "execution_count": null,
      "outputs": [
        {
          "output_type": "execute_result",
          "data": {
            "text/plain": [
              "(11984,)"
            ]
          },
          "metadata": {},
          "execution_count": 107
        }
      ]
    },
    {
      "cell_type": "code",
      "metadata": {
        "id": "CNnoSUrMxajo",
        "colab": {
          "base_uri": "https://localhost:8080/"
        },
        "outputId": "a9bb2179-0395-47e6-c2a3-d2efd090246a"
      },
      "source": [
        "y_valid.shape"
      ],
      "execution_count": null,
      "outputs": [
        {
          "output_type": "execute_result",
          "data": {
            "text/plain": [
              "(1446,)"
            ]
          },
          "metadata": {},
          "execution_count": 108
        }
      ]
    },
    {
      "cell_type": "code",
      "metadata": {
        "id": "d_h9zobIxajq"
      },
      "source": [
        "X_train_2 = []\n",
        "y_train_2 = []\n",
        "for i in range(SEQ_LEN, len(train_data)):\n",
        "    X_train_2.append(train_data[i-SEQ_LEN:i])\n",
        "    y_train_2.append(train_data[i + (FUTURE_PERIOD_PREDICT-1)])\n",
        "X_train_2, y_train_2 = np.array(X_train_2), np.array(y_train_2)\n",
        "\n",
        "X_train_2 = np.reshape(X_train_2, (X_train_2.shape[0], X_train_2.shape[1], 1))"
      ],
      "execution_count": null,
      "outputs": []
    },
    {
      "cell_type": "code",
      "metadata": {
        "id": "K9o-mx1jxajr",
        "colab": {
          "base_uri": "https://localhost:8080/",
          "height": 350
        },
        "outputId": "b6c72a4d-c491-4fa8-9629-4fe6f059768d"
      },
      "source": [
        "## show predictions\n",
        "plt.figure(figsize=(15, 5))\n",
        "\n",
        "plt.plot(np.arange(y_train_2.shape[0]), y_train_2, color='blue', label='train target')\n",
        "\n",
        "plt.plot(np.arange(y_train_2.shape[0], y_train_2.shape[0]+y_valid.shape[0]), y_valid,\n",
        "         color='gray', label='valid target')\n",
        "\n",
        "plt.plot(np.arange(y_train_2.shape[0]+y_valid.shape[0],\n",
        "                   y_train_2.shape[0]+y_valid.shape[0]+y_test.shape[0]),\n",
        "         y_test, color='black', label='test target')\n",
        "\n",
        "\n",
        "plt.title('Normalized Dataset')\n",
        "plt.xlabel('time [days]')\n",
        "plt.ylabel('normalized price')\n",
        "plt.legend(loc='best');"
      ],
      "execution_count": null,
      "outputs": [
        {
          "output_type": "display_data",
          "data": {
            "image/png": "[encoded data removed]",
            "text/plain": [
              "<Figure size 1080x360 with 1 Axes>"
            ]
          },
          "metadata": {
            "needs_background": "light"
          }
        }
      ]
    },
    {
      "cell_type": "code",
      "metadata": {
        "id": "1zmC7ko9xajt"
      },
      "source": [
        "from sklearn.utils import shuffle\n",
        "X_train, y_train = shuffle(X_train, y_train)"
      ],
      "execution_count": null,
      "outputs": []
    },
    {
      "cell_type": "code",
      "metadata": {
        "id": "Rf4iY4xOxajx"
      },
      "source": [
        "EPOCHS = 10  # how many passes through our data\n",
        "BATCH_SIZE = 1024  # how many batches? Try smaller batch if you're getting OOM (out of memory) errors.\n",
        "import time\n",
        "\n",
        "NAME = f\"{SEQ_LEN}-SEQ-{FUTURE_PERIOD_PREDICT}-PRED-{int(time.time())}\"  # a unique name for the model"
      ],
      "execution_count": null,
      "outputs": []
    },
    {
      "cell_type": "markdown",
      "metadata": {
        "id": "goRWqxUKxall"
      },
      "source": [
        "# Step 3 - Build our model (The Transformer)\n"
      ]
    },
    {
      "cell_type": "code",
      "metadata": {
        "id": "dUDciYiOykQy",
        "colab": {
          "base_uri": "https://localhost:8080/"
        },
        "outputId": "5e54fa1a-b402-4cf6-fa4d-75dd911c677b"
      },
      "source": [
        "!pip install -q tensorflow==2.6.0\n"
      ],
      "execution_count": null,
      "outputs": [
        {
          "output_type": "stream",
          "name": "stdout",
          "text": [
            "\u001b[K     |████████████████████████████████| 458.3 MB 7.6 kB/s \n",
            "\u001b[?25h"
          ]
        }
      ]
    },
    {
      "cell_type": "code",
      "metadata": {
        "id": "7s5HTXF9xall"
      },
      "source": [
        "# https://www.kaggle.com/shujian/transformer-with-lstm\n",
        "\n",
        "import random, os, sys\n",
        "import numpy as np\n",
        "from tensorflow.keras.models import *\n",
        "from tensorflow.keras.layers import *\n",
        "from tensorflow.keras.callbacks import *\n",
        "from tensorflow.keras.initializers import *\n",
        "import tensorflow as tf\n",
        "from tensorflow.python.keras.layers import Layer\n",
        "from tensorflow import keras\n",
        "\n",
        "# FIX THIS \n",
        "#from tensorflow.keras import backend as K\n",
        "#from keras import backend as K\n",
        "\n",
        "\n",
        "try:\n",
        "    from dataloader import TokenList, pad_to_longest\n",
        "    # for transformer\n",
        "except: pass\n",
        "\n",
        "\n",
        "\n",
        "embed_size = 60\n",
        "\n",
        "class LayerNormalization(Layer):\n",
        "    def __init__(self, eps=1e-6, **kwargs):\n",
        "        self.eps = eps\n",
        "        super(LayerNormalization, self).__init__(**kwargs)\n",
        "    def build(self, input_shape):\n",
        "        self.gamma = self.add_weight(name='gamma', shape=input_shape[-1:],\n",
        "                                     initializer=Ones(), trainable=True)\n",
        "        self.beta = self.add_weight(name='beta', shape=input_shape[-1:],\n",
        "                                    initializer=Zeros(), trainable=True)\n",
        "        super(LayerNormalization, self).build(input_shape)\n",
        "    def call(self, x):\n",
        "        mean = K.mean(x, axis=-1, keepdims=True)\n",
        "        std = K.std(x, axis=-1, keepdims=True)\n",
        "        return self.gamma * (x - mean) / (std + self.eps) + self.beta\n",
        "    def compute_output_shape(self, input_shape):\n",
        "        return input_shape\n",
        "\n",
        "class ScaledDotProductAttention():\n",
        "    def __init__(self, d_model, attn_dropout=0.1):\n",
        "        self.temper = np.sqrt(d_model)\n",
        "        self.dropout = Dropout(attn_dropout)\n",
        "    def __call__(self, q, k, v, mask):\n",
        "        attn = Lambda(lambda x:K.batch_dot(x[0],x[1],axes=[2,2])/self.temper)([q, k])\n",
        "        if mask is not None:\n",
        "            mmask = Lambda(lambda x:(-1e+10)*(1-x))(mask)\n",
        "            attn = Add()([attn, mmask])\n",
        "        attn = Activation('softmax')(attn)\n",
        "        attn = self.dropout(attn)\n",
        "        output = Lambda(lambda x:K.batch_dot(x[0], x[1]))([attn, v])\n",
        "        return output, attn\n",
        "\n",
        "class MultiHeadAttention():\n",
        "    # mode 0 - big martixes, faster; mode 1 - more clear implementation\n",
        "    def __init__(self, n_head, d_model, d_k, d_v, dropout, mode=0, use_norm=True):\n",
        "        self.mode = mode\n",
        "        self.n_head = n_head\n",
        "        self.d_k = d_k\n",
        "        self.d_v = d_v\n",
        "        self.dropout = dropout\n",
        "        if mode == 0:\n",
        "            self.qs_layer = Dense(n_head*d_k, use_bias=False)\n",
        "            self.ks_layer = Dense(n_head*d_k, use_bias=False)\n",
        "            self.vs_layer = Dense(n_head*d_v, use_bias=False)\n",
        "        elif mode == 1:\n",
        "            self.qs_layers = []\n",
        "            self.ks_layers = []\n",
        "            self.vs_layers = []\n",
        "            for _ in range(n_head):\n",
        "                self.qs_layers.append(TimeDistributed(Dense(d_k, use_bias=False)))\n",
        "                self.ks_layers.append(TimeDistributed(Dense(d_k, use_bias=False)))\n",
        "                self.vs_layers.append(TimeDistributed(Dense(d_v, use_bias=False)))\n",
        "        self.attention = ScaledDotProductAttention(d_model)\n",
        "        self.layer_norm = LayerNormalization() if use_norm else None\n",
        "        self.w_o = TimeDistributed(Dense(d_model))\n",
        "\n",
        "    def __call__(self, q, k, v, mask=None):\n",
        "        d_k, d_v = self.d_k, self.d_v\n",
        "        n_head = self.n_head\n",
        "\n",
        "        if self.mode == 0:\n",
        "            qs = self.qs_layer(q)  # [batch_size, len_q, n_head*d_k]\n",
        "            ks = self.ks_layer(k)\n",
        "            vs = self.vs_layer(v)\n",
        "\n",
        "            def reshape1(x):\n",
        "                s = tf.shape(x)   # [batch_size, len_q, n_head * d_k]\n",
        "                x = tf.reshape(x, [s[0], s[1], n_head, d_k])\n",
        "                x = tf.transpose(x, [2, 0, 1, 3])  \n",
        "                x = tf.reshape(x, [-1, s[1], d_k])  # [n_head * batch_size, len_q, d_k]\n",
        "                return x\n",
        "            qs = Lambda(reshape1)(qs)\n",
        "            ks = Lambda(reshape1)(ks)\n",
        "            vs = Lambda(reshape1)(vs)\n",
        "\n",
        "            if mask is not None:\n",
        "                mask = Lambda(lambda x:K.repeat_elements(x, n_head, 0))(mask)\n",
        "            head, attn = self.attention(qs, ks, vs, mask=mask)  \n",
        "                \n",
        "            def reshape2(x):\n",
        "                s = tf.shape(x)   # [n_head * batch_size, len_v, d_v]\n",
        "                x = tf.reshape(x, [n_head, -1, s[1], s[2]]) \n",
        "                x = tf.transpose(x, [1, 2, 0, 3])\n",
        "                x = tf.reshape(x, [-1, s[1], n_head*d_v])  # [batch_size, len_v, n_head * d_v]\n",
        "                return x\n",
        "            head = Lambda(reshape2)(head)\n",
        "        elif self.mode == 1:\n",
        "            heads = []; attns = []\n",
        "            for i in range(n_head):\n",
        "                qs = self.qs_layers[i](q)   \n",
        "                ks = self.ks_layers[i](k) \n",
        "                vs = self.vs_layers[i](v) \n",
        "                head, attn = self.attention(qs, ks, vs, mask)\n",
        "                heads.append(head); attns.append(attn)\n",
        "            head = Concatenate()(heads) if n_head > 1 else heads[0]\n",
        "            attn = Concatenate()(attns) if n_head > 1 else attns[0]\n",
        "\n",
        "        outputs = self.w_o(head)\n",
        "        outputs = Dropout(self.dropout)(outputs)\n",
        "        if not self.layer_norm: return outputs, attn\n",
        "        # outputs = Add()([outputs, q]) # sl: fix\n",
        "        return self.layer_norm(outputs), attn\n",
        "\n",
        "class PositionwiseFeedForward():\n",
        "    def __init__(self, d_hid, d_inner_hid, dropout=0.1):\n",
        "        self.w_1 = Conv1D(d_inner_hid, 1, activation='relu')\n",
        "        self.w_2 = Conv1D(d_hid, 1)\n",
        "        self.layer_norm = LayerNormalization()\n",
        "        self.dropout = Dropout(dropout)\n",
        "    def __call__(self, x):\n",
        "        output = self.w_1(x) \n",
        "        output = self.w_2(output)\n",
        "        output = self.dropout(output)\n",
        "        output = Add()([output, x])\n",
        "        return self.layer_norm(output)\n",
        "\n",
        "class EncoderLayer():\n",
        "    def __init__(self, d_model, d_inner_hid, n_head, d_k, d_v, dropout=0.1):\n",
        "        self.self_att_layer = MultiHeadAttention(n_head, d_model, d_k, d_v, dropout=dropout)\n",
        "        self.pos_ffn_layer  = PositionwiseFeedForward(d_model, d_inner_hid, dropout=dropout)\n",
        "    def __call__(self, enc_input, mask=None):\n",
        "        output, slf_attn = self.self_att_layer(enc_input, enc_input, enc_input, mask=mask)\n",
        "        output = self.pos_ffn_layer(output)\n",
        "        return output, slf_attn\n",
        "\n",
        "\n",
        "def GetPosEncodingMatrix(max_len, d_emb):\n",
        "    pos_enc = np.array([\n",
        "        [pos / np.power(10000, 2 * (j // 2) / d_emb) for j in range(d_emb)] \n",
        "        if pos != 0 else np.zeros(d_emb) \n",
        "            for pos in range(max_len)\n",
        "            ])\n",
        "    pos_enc[1:, 0::2] = np.sin(pos_enc[1:, 0::2]) # dim 2i\n",
        "    pos_enc[1:, 1::2] = np.cos(pos_enc[1:, 1::2]) # dim 2i+1\n",
        "    return pos_enc\n",
        "\n",
        "def GetPadMask(q, k):\n",
        "    ones = K.expand_dims(K.ones_like(q, 'float32'), -1)\n",
        "    mask = K.cast(K.expand_dims(K.not_equal(k, 0), 1), 'float32')\n",
        "    mask = K.batch_dot(ones, mask, axes=[2,1])\n",
        "    return mask\n",
        "\n",
        "def GetSubMask(s):\n",
        "    len_s = tf.shape(s)[1]\n",
        "    bs = tf.shape(s)[:1]\n",
        "    mask = K.cumsum(tf.eye(len_s, batch_shape=bs), 1)\n",
        "    return mask\n",
        "\n",
        "class Transformer():\n",
        "    def __init__(self, len_limit, embedding_matrix, d_model=embed_size, \\\n",
        "              d_inner_hid=512, n_head=10, d_k=64, d_v=64, layers=2, dropout=0.1, \\\n",
        "              share_word_emb=False, **kwargs):\n",
        "        self.name = 'Transformer'\n",
        "        self.len_limit = len_limit\n",
        "        self.src_loc_info = False # True # sl: fix later\n",
        "        self.d_model = d_model\n",
        "        self.decode_model = None\n",
        "        d_emb = d_model\n",
        "\n",
        "        pos_emb = Embedding(len_limit, d_emb, trainable=False, \\\n",
        "                            weights=[GetPosEncodingMatrix(len_limit, d_emb)])\n",
        "\n",
        "        i_word_emb = Embedding(max_features, d_emb, weights=[embedding_matrix]) # Add Kaggle provided embedding here\n",
        "\n",
        "        self.encoder = Encoder(d_model, d_inner_hid, n_head, d_k, d_v, layers, dropout, \\\n",
        "                               word_emb=i_word_emb, pos_emb=pos_emb)\n",
        "\n",
        "        \n",
        "    def get_pos_seq(self, x):\n",
        "        mask = K.cast(K.not_equal(x, 0), 'int32')\n",
        "        pos = K.cumsum(K.ones_like(x, 'int32'), 1)\n",
        "        return pos * mask\n",
        "\n",
        "    def compile(self, active_layers=999):\n",
        "        src_seq_input = Input(shape=(None, ))\n",
        "        x = Embedding(max_features, embed_size, weights=[embedding_matrix])(src_seq_input)\n",
        "        \n",
        "        # LSTM before attention layers\n",
        "        x = Bidirectional(LSTM(128, return_sequences=True))(x)\n",
        "        x = Bidirectional(LSTM(64, return_sequences=True))(x) \n",
        "        \n",
        "        x, slf_attn = MultiHeadAttention(n_head=3, d_model=300, d_k=64, d_v=64, dropout=0.1)(x, x, x)\n",
        "        \n",
        "        avg_pool = GlobalAveragePooling1D()(x)\n",
        "        max_pool = GlobalMaxPooling1D()(x)\n",
        "        conc = concatenate([avg_pool, max_pool])\n",
        "        conc = Dense(64, activation=\"relu\")(conc)\n",
        "        x = Dense(1, activation=\"sigmoid\")(conc)   \n",
        "        \n",
        "        \n",
        "        self.model = Model(inputs=src_seq_input, outputs=x)\n",
        "        self.model.compile(optimizer = 'adam', loss = 'mean_squared_error', metrics=['accuracy'])"
      ],
      "execution_count": null,
      "outputs": []
    },
    {
      "cell_type": "code",
      "metadata": {
        "id": "nLD7FxFoxalm"
      },
      "source": [
        "def build_model():\n",
        "    inp = Input(shape = (SEQ_LEN, 1))\n",
        "    \n",
        "    # LSTM before attention layers\n",
        "    x = Bidirectional(LSTM(128, return_sequences=True))(inp)\n",
        "    x = Bidirectional(LSTM(64, return_sequences=True))(x) \n",
        "        \n",
        "    x, slf_attn = MultiHeadAttention(n_head=3, d_model=300, d_k=64, d_v=64, dropout=0.1)(x, x, x)\n",
        "        \n",
        "    avg_pool = GlobalAveragePooling1D()(x)\n",
        "    max_pool = GlobalMaxPooling1D()(x)\n",
        "    conc = concatenate([avg_pool, max_pool])\n",
        "    conc = Dense(64, activation=\"relu\")(conc)\n",
        "    x = Dense(1, activation=\"sigmoid\")(conc)      \n",
        "\n",
        "    model = Model(inputs = inp, outputs = x)\n",
        "    model.compile(\n",
        "        loss = \"mean_squared_error\", \n",
        "        #optimizer = Adam(lr = config[\"lr\"], decay = config[\"lr_d\"]), \n",
        "        optimizer = \"adam\")\n",
        "    \n",
        "    # Save entire model to a HDF5 file\n",
        "    #model.save('my_model.h5')\n",
        "    \n",
        "    return model"
      ],
      "execution_count": null,
      "outputs": []
    },
    {
      "cell_type": "code",
      "metadata": {
        "id": "_K9Kk4BMxaln",
        "colab": {
          "base_uri": "https://localhost:8080/",
          "height": 282
        },
        "outputId": "9026e305-64d2-4a11-fe0e-4f06cdc701a1"
      },
      "source": [
        "multi_head = build_model()"
      ],
      "execution_count": null,
      "outputs": [
        {
          "output_type": "error",
          "ename": "NameError",
          "evalue": "ignored",
          "traceback": [
            "\u001b[0;31m---------------------------------------------------------------------------\u001b[0m",
            "\u001b[0;31mNameError\u001b[0m                                 Traceback (most recent call last)",
            "\u001b[0;32m<ipython-input-3-37643215ce3b>\u001b[0m in \u001b[0;36m<module>\u001b[0;34m()\u001b[0m\n\u001b[0;32m----> 1\u001b[0;31m \u001b[0mmulti_head\u001b[0m \u001b[0;34m=\u001b[0m \u001b[0mbuild_model\u001b[0m\u001b[0;34m(\u001b[0m\u001b[0;34m)\u001b[0m\u001b[0;34m\u001b[0m\u001b[0;34m\u001b[0m\u001b[0m\n\u001b[0m",
            "\u001b[0;32m<ipython-input-2-c8367afe8d08>\u001b[0m in \u001b[0;36mbuild_model\u001b[0;34m()\u001b[0m\n\u001b[1;32m      1\u001b[0m \u001b[0;32mdef\u001b[0m \u001b[0mbuild_model\u001b[0m\u001b[0;34m(\u001b[0m\u001b[0;34m)\u001b[0m\u001b[0;34m:\u001b[0m\u001b[0;34m\u001b[0m\u001b[0;34m\u001b[0m\u001b[0m\n\u001b[0;32m----> 2\u001b[0;31m     \u001b[0minp\u001b[0m \u001b[0;34m=\u001b[0m \u001b[0mInput\u001b[0m\u001b[0;34m(\u001b[0m\u001b[0mshape\u001b[0m \u001b[0;34m=\u001b[0m \u001b[0;34m(\u001b[0m\u001b[0mSEQ_LEN\u001b[0m\u001b[0;34m,\u001b[0m \u001b[0;36m1\u001b[0m\u001b[0;34m)\u001b[0m\u001b[0;34m)\u001b[0m\u001b[0;34m\u001b[0m\u001b[0;34m\u001b[0m\u001b[0m\n\u001b[0m\u001b[1;32m      3\u001b[0m \u001b[0;34m\u001b[0m\u001b[0m\n\u001b[1;32m      4\u001b[0m     \u001b[0;31m# LSTM before attention layers\u001b[0m\u001b[0;34m\u001b[0m\u001b[0;34m\u001b[0m\u001b[0;34m\u001b[0m\u001b[0m\n\u001b[1;32m      5\u001b[0m     \u001b[0mx\u001b[0m \u001b[0;34m=\u001b[0m \u001b[0mBidirectional\u001b[0m\u001b[0;34m(\u001b[0m\u001b[0mLSTM\u001b[0m\u001b[0;34m(\u001b[0m\u001b[0;36m128\u001b[0m\u001b[0;34m,\u001b[0m \u001b[0mreturn_sequences\u001b[0m\u001b[0;34m=\u001b[0m\u001b[0;32mTrue\u001b[0m\u001b[0;34m)\u001b[0m\u001b[0;34m)\u001b[0m\u001b[0;34m(\u001b[0m\u001b[0minp\u001b[0m\u001b[0;34m)\u001b[0m\u001b[0;34m\u001b[0m\u001b[0;34m\u001b[0m\u001b[0m\n",
            "\u001b[0;31mNameError\u001b[0m: name 'SEQ_LEN' is not defined"
          ]
        }
      ]
    },
    {
      "cell_type": "code",
      "metadata": {
        "id": "ZvzB_DR4xalo",
        "colab": {
          "base_uri": "https://localhost:8080/",
          "height": 163
        },
        "outputId": "b3c3c030-e31c-4b4f-c0f2-9b235e02fe25"
      },
      "source": [
        "multi_head.summary()"
      ],
      "execution_count": null,
      "outputs": [
        {
          "output_type": "error",
          "ename": "NameError",
          "evalue": "ignored",
          "traceback": [
            "\u001b[0;31m---------------------------------------------------------------------------\u001b[0m",
            "\u001b[0;31mNameError\u001b[0m                                 Traceback (most recent call last)",
            "\u001b[0;32m<ipython-input-4-b29f52fedef9>\u001b[0m in \u001b[0;36m<module>\u001b[0;34m()\u001b[0m\n\u001b[0;32m----> 1\u001b[0;31m \u001b[0mmulti_head\u001b[0m\u001b[0;34m.\u001b[0m\u001b[0msummary\u001b[0m\u001b[0;34m(\u001b[0m\u001b[0;34m)\u001b[0m\u001b[0;34m\u001b[0m\u001b[0;34m\u001b[0m\u001b[0m\n\u001b[0m",
            "\u001b[0;31mNameError\u001b[0m: name 'multi_head' is not defined"
          ]
        }
      ]
    },
    {
      "cell_type": "code",
      "metadata": {
        "id": "uYTI8rxqxalp",
        "colab": {
          "base_uri": "https://localhost:8080/",
          "height": 231
        },
        "outputId": "4e27992e-8ef9-4b2f-a713-d464d28dfbd5"
      },
      "source": [
        "multi_head.fit(X_train, y_train,\n",
        "                    batch_size=BATCH_SIZE,\n",
        "                    epochs=EPOCHS,\n",
        "                    validation_data=(X_valid, y_valid), \n",
        "                    #callbacks = [checkpoint , lr_reduce]\n",
        "             )"
      ],
      "execution_count": null,
      "outputs": [
        {
          "output_type": "error",
          "ename": "NameError",
          "evalue": "ignored",
          "traceback": [
            "\u001b[0;31m---------------------------------------------------------------------------\u001b[0m",
            "\u001b[0;31mNameError\u001b[0m                                 Traceback (most recent call last)",
            "\u001b[0;32m<ipython-input-5-edbfaa8ec650>\u001b[0m in \u001b[0;36m<module>\u001b[0;34m()\u001b[0m\n\u001b[0;32m----> 1\u001b[0;31m multi_head.fit(X_train, y_train,\n\u001b[0m\u001b[1;32m      2\u001b[0m                     \u001b[0mbatch_size\u001b[0m\u001b[0;34m=\u001b[0m\u001b[0mBATCH_SIZE\u001b[0m\u001b[0;34m,\u001b[0m\u001b[0;34m\u001b[0m\u001b[0;34m\u001b[0m\u001b[0m\n\u001b[1;32m      3\u001b[0m                     \u001b[0mepochs\u001b[0m\u001b[0;34m=\u001b[0m\u001b[0mEPOCHS\u001b[0m\u001b[0;34m,\u001b[0m\u001b[0;34m\u001b[0m\u001b[0;34m\u001b[0m\u001b[0m\n\u001b[1;32m      4\u001b[0m                     \u001b[0mvalidation_data\u001b[0m\u001b[0;34m=\u001b[0m\u001b[0;34m(\u001b[0m\u001b[0mX_valid\u001b[0m\u001b[0;34m,\u001b[0m \u001b[0my_valid\u001b[0m\u001b[0;34m)\u001b[0m\u001b[0;34m,\u001b[0m\u001b[0;34m\u001b[0m\u001b[0;34m\u001b[0m\u001b[0m\n\u001b[1;32m      5\u001b[0m                     \u001b[0;31m#callbacks = [checkpoint , lr_reduce]\u001b[0m\u001b[0;34m\u001b[0m\u001b[0;34m\u001b[0m\u001b[0;34m\u001b[0m\u001b[0m\n",
            "\u001b[0;31mNameError\u001b[0m: name 'multi_head' is not defined"
          ]
        }
      ]
    },
    {
      "cell_type": "code",
      "metadata": {
        "id": "87b3dFT2xalr",
        "outputId": "a942a5a7-3d84-4740-97b3-9fe5c02c97bd"
      },
      "source": [
        "predicted_stock_price_multi_head = multi_head.predict(X_test)\n",
        "#predicted_stock_price = scaler.inverse_transform(predicted_stock_price)\n",
        "\n",
        "\n",
        "predicted_stock_price_multi_head.shape"
      ],
      "execution_count": null,
      "outputs": [
        {
          "output_type": "execute_result",
          "data": {
            "text/plain": [
              "(1345, 1)"
            ]
          },
          "metadata": {
            "tags": []
          },
          "execution_count": 174
        }
      ]
    },
    {
      "cell_type": "code",
      "metadata": {
        "id": "7NTKopU_xals"
      },
      "source": [
        "predicted_stock_price_multi_head = np.vstack((np.full((60,1), np.nan), predicted_stock_price_multi_head))"
      ],
      "execution_count": null,
      "outputs": []
    },
    {
      "cell_type": "code",
      "metadata": {
        "id": "9UgEoi4jxalt",
        "outputId": "b5f9c023-f9f1-455e-a1c5-7cd4c5554cda"
      },
      "source": [
        "plt.figure(figsize = (18,9))\n",
        "plt.plot(test_data, color = 'black', label = 'GE Stock Price')\n",
        "plt.plot(predicted_stock_price_multi_head, color = 'green', label = 'Predicted GE Mid Price')\n",
        "plt.title('GE Mid Price Prediction', fontsize=30)\n",
        "#plt.xticks(range(0,df.shape[0],50),df['Date'].loc[::50],rotation=45)\n",
        "plt.xlabel('Date')\n",
        "plt.ylabel('GE Mid Price')\n",
        "plt.legend(fontsize=18)\n",
        "plt.show()"
      ],
      "execution_count": null,
      "outputs": [
        {
          "output_type": "display_data",
          "data": {
            "image/png": "[encoded data removed]",
            "text/plain": [
              "<Figure size 1296x648 with 1 Axes>"
            ]
          },
          "metadata": {
            "tags": [],
            "needs_background": "light"
          }
        }
      ]
    }
  ]
}